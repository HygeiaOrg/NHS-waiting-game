{
 "cells": [
  {
   "cell_type": "code",
   "execution_count": 1,
   "id": "1818c144",
   "metadata": {},
   "outputs": [],
   "source": [
    "import requests\n",
    "from bs4 import BeautifulSoup\n"
   ]
  },
  {
   "cell_type": "code",
   "execution_count": 2,
   "id": "cd3c8ea4",
   "metadata": {},
   "outputs": [],
   "source": [
    "url = \"https://www.gov.uk/government/statistics/english-indices-of-deprivation-2019\"\n",
    "\n",
    "headers = {\n",
    "    'User-Agent': 'Mozilla/5.0 (Windows NT 10.0; Win64; x64) AppleWebKit/537.36 (KHTML, like Gecko) Chrome/107.0.0.0 Safari/537.36'\n",
    "}\n",
    "\n",
    "response = requests.get(url, headers=headers)\n",
    "soup = BeautifulSoup(response.content, 'html.parser')\n"
   ]
  },
  {
   "cell_type": "code",
   "execution_count": 51,
   "id": "765a7372",
   "metadata": {},
   "outputs": [],
   "source": [
    "from lxml import etree\n",
    "import re\n",
    "\n",
    "dom = etree.HTML(str(soup))\n",
    "\n",
    "for j in range(1, 18):\n",
    "    try:\n",
    "        file_url = dom.xpath(f'/html/body/div[3]/main/div[4]/div[1]/div/div[1]/section[1]/div/section[{j}]/div[2]/h3/a/@href')[0]\n",
    "#         print(str(file_url))\n",
    "        \n",
    "        regex_file = r'[^\\/]*$'\n",
    "        file_name = re.search(regex_file, str(file_url)).group()\n",
    "#         print(file_name)\n",
    "\n",
    "        r = requests.get(file_url)\n",
    "        \n",
    "        with open (\"output_files\\\\\"+file_name, 'wb+') as f:\n",
    "            f.write(r.content)\n",
    "        \n",
    "    except:\n",
    "        continue\n",
    "\n"
   ]
  },
  {
   "cell_type": "code",
   "execution_count": 52,
   "id": "76e1b283",
   "metadata": {},
   "outputs": [
    {
     "name": "stdout",
     "output_type": "stream",
     "text": [
      " Volume in drive C is OS\n",
      " Volume Serial Number is 34C9-4CBD\n",
      "\n",
      " Directory of C:\\Users\\devsn\\Desktop\\projects\\Omdena\\03-London-NLP\\london-chapter-nlp-self-harm\\src\\data\\forums\\lsoa-data\\output_files\n",
      "\n",
      "03-11-2022  01:42    <DIR>          .\n",
      "03-11-2022  01:42    <DIR>          ..\n",
      "03-11-2022  01:42           255,264 File_10_-_IoD2019_Local_Authority_District_Summaries__lower-tier__.xlsx\n",
      "03-11-2022  01:42           152,263 File_11_-_IoD2019_Local_Authority_District_Summaries__upper-tier__.xlsx\n",
      "03-11-2022  01:42            66,900 File_12_-_IoD2019_Local_Enterprise_Partnership__LEP__Summaries.xlsx\n",
      "03-11-2022  01:42           194,148 File_13_-_IoD2019_Clinical_Commissioning_Group__CCG__Summaries.xlsx\n",
      "03-11-2022  01:42            73,264 File_14_-_IoD2015_Recast_to_2019_Local_Authority_District__lower-tier__Boundaries.xlsx\n",
      "03-11-2022  01:42         1,433,347 File_1_-_IMD2019_Index_of_Multiple_Deprivation.xlsx\n",
      "03-11-2022  01:42         4,224,939 File_2_-_IoD2019_Domains_of_Deprivation.xlsx\n",
      "03-11-2022  01:42         2,220,125 File_3_-_IoD2019_Supplementary_Indices_-_IDACI_and_IDAOPI.xlsx\n",
      "03-11-2022  01:42         4,662,116 File_4_-_IoD2019_Sub-domains_of_Deprivation.xlsx\n",
      "03-11-2022  01:42         5,394,191 File_5_-_IoD2019_Scores.xlsx\n",
      "03-11-2022  01:42         2,014,740 File_6_-_IoD2019_Population_Denominators.xlsx\n",
      "03-11-2022  01:42        11,092,401 File_8_-_IoD2019_Underlying_Indicators.xlsx\n",
      "03-11-2022  01:42         3,144,203 File_9_-_IoD2019_Transformed_Scores.xlsx\n",
      "03-11-2022  01:42           367,903 IoD2019_FAQ_v4.pdf\n",
      "03-11-2022  01:42           442,645 IoD2019_Infographic.pdf\n",
      "03-11-2022  01:42         2,295,100 IoD2019_Statistical_Release.pdf\n",
      "              16 File(s)     38,033,549 bytes\n",
      "               2 Dir(s)  234,727,292,928 bytes free\n"
     ]
    }
   ],
   "source": [
    "! cd output_files/ && dir"
   ]
  },
  {
   "cell_type": "code",
   "execution_count": null,
   "id": "329c1509",
   "metadata": {},
   "outputs": [],
   "source": []
  }
 ],
 "metadata": {
  "kernelspec": {
   "display_name": "Python 3 (ipykernel)",
   "language": "python",
   "name": "python3"
  },
  "language_info": {
   "codemirror_mode": {
    "name": "ipython",
    "version": 3
   },
   "file_extension": ".py",
   "mimetype": "text/x-python",
   "name": "python",
   "nbconvert_exporter": "python",
   "pygments_lexer": "ipython3",
   "version": "3.9.7"
  }
 },
 "nbformat": 4,
 "nbformat_minor": 5
}

{
  "cells": [
    {
      "cell_type": "code",
      "execution_count": 18,
      "metadata": {
        "id": "4y0XWHlz5i0l"
      },
      "outputs": [],
      "source": [
        "#import libraries\n",
        "import tensorflow.keras.layers as layers\n",
        "import tensorflow.keras.backend as K\n",
        "from tensorflow.keras.layers.experimental.preprocessing import TextVectorization\n",
        "from sklearn.model_selection import train_test_split\n",
        "import pandas as pd"
      ]
    },
    {
      "cell_type": "code",
      "execution_count": 19,
      "metadata": {
        "id": "djv1tVdN57nA"
      },
      "outputs": [],
      "source": [
        "tweet_df=pd.read_csv('/content/tweets_training.csv', index_col=0)"
      ]
    },
    {
      "cell_type": "code",
      "execution_count": 20,
      "metadata": {
        "id": "nOexmd3F518p"
      },
      "outputs": [],
      "source": [
        "#create Text Vectorization Layer\n",
        "X=tweet_df['tweet_text'].tolist()\n",
        "y=tweet_df['label'].tolist()\n",
        "X_train, X_test,y_train,y_test=train_test_split(X,y, test_size = 0.3, random_state = 42)\n",
        "X_valid, X_test, y_valid, y_test=train_test_split(X_test,y_test, test_size = 0.5, random_state = 42)\n",
        "max_len=140\n",
        "vect_layer=TextVectorization(output_mode='int', output_sequence_length=max_len, ngrams=(1,2))\n",
        "vect_layer.adapt(X_train)"
      ]
    },
    {
      "cell_type": "code",
      "execution_count": 21,
      "metadata": {
        "id": "ZtwKzGMv6sc1"
      },
      "outputs": [],
      "source": [
        "n_vocab=len(vect_layer.get_vocabulary())"
      ]
    },
    {
      "cell_type": "code",
      "execution_count": 10,
      "metadata": {
        "id": "WFxItuuB6u6m"
      },
      "outputs": [],
      "source": [
        "!pip install -q -U keras-tuner"
      ]
    },
    {
      "cell_type": "code",
      "execution_count": 22,
      "metadata": {
        "id": "UCg5d4pZ63-h"
      },
      "outputs": [],
      "source": [
        "import keras_tuner as kt"
      ]
    },
    {
      "cell_type": "code",
      "execution_count": 23,
      "metadata": {
        "id": "-nV95Rl564fp"
      },
      "outputs": [],
      "source": [
        "#early stopping callback to avoid overfit model\n",
        "import tensorflow as tf\n",
        "early_stopping_callback = tf.keras.callbacks.EarlyStopping(\n",
        "      monitor='val_loss', patience=3, verbose=1,\n",
        "    mode='auto', min_delta=0.001\n",
        ")"
      ]
    },
    {
      "cell_type": "code",
      "execution_count": 24,
      "metadata": {
        "id": "IrcIEX2O6_Pa"
      },
      "outputs": [],
      "source": [
        "#parameter tuning for lstm model\n",
        "import keras\n",
        "import tensorflow as tf\n",
        "def model_builder_lstm(hp):\n",
        "    model=keras.Sequential()\n",
        "    model.add(layers.Input(shape=(1,), dtype=tf.string))\n",
        "    model.add(vect_layer)\n",
        "    model.add(layers.Embedding(input_dim=n_vocab, output_dim=max_len))\n",
        "    hp_dropouts=hp.Float('Dropout_rate', min_value=0.1, max_value=0.5, step=0.1)\n",
        "    model.add(layers.SpatialDropout1D(rate=hp_dropouts))\n",
        "    hp_units=hp.Int('units', min_value=32, max_value=512, step=32)\n",
        "    model.add(layers.Bidirectional(layers.LSTM(units=hp_units)))\n",
        "    \n",
        "    model.add(layers.Dense(1, activation='sigmoid'))\n",
        "    model.compile(loss='binary_crossentropy', optimizer='adam', metrics=['accuracy'])\n",
        "    return model"
      ]
    },
    {
      "cell_type": "code",
      "execution_count": 26,
      "metadata": {
        "id": "7k1y2Qxt7I5y"
      },
      "outputs": [],
      "source": [
        "tuner=kt.BayesianOptimization(model_builder_lstm,\n",
        "                    objective='val_accuracy', max_trials=25,\n",
        "                    directory='bayes_lstm_5',\n",
        "                     project_name='bayes_lstm_5')"
      ]
    },
    {
      "cell_type": "code",
      "execution_count": 27,
      "metadata": {
        "colab": {
          "base_uri": "https://localhost:8080/"
        },
        "id": "pEjCJJ-R7L3D",
        "outputId": "d5494a9d-a489-40c6-d5e6-d2cf91052119"
      },
      "outputs": [
        {
          "output_type": "stream",
          "name": "stdout",
          "text": [
            "Trial 25 Complete [00h 00m 25s]\n",
            "val_accuracy: 0.9090300798416138\n",
            "\n",
            "Best val_accuracy So Far: 0.9250836372375488\n",
            "Total elapsed time: 00h 13m 25s\n"
          ]
        }
      ],
      "source": [
        "tuner.search(X_train, y_train,epochs=10, validation_data=(X_valid,y_valid), verbose=1, callbacks=[early_stopping_callback])"
      ]
    },
    {
      "cell_type": "code",
      "execution_count": 28,
      "metadata": {
        "id": "2E3AnNqrV5iy"
      },
      "outputs": [],
      "source": [
        "best_model_lstm = tuner.get_best_models(num_models=1)[0]"
      ]
    },
    {
      "cell_type": "code",
      "source": [
        "best_model_lstm.evaluate(X_test, y_test)"
      ],
      "metadata": {
        "colab": {
          "base_uri": "https://localhost:8080/"
        },
        "id": "oX3wbcG_f7NY",
        "outputId": "c55eb78e-4ce3-445c-ad9e-a093b8b02d7b"
      },
      "execution_count": 29,
      "outputs": [
        {
          "output_type": "stream",
          "name": "stdout",
          "text": [
            "47/47 [==============================] - 2s 10ms/step - loss: 0.2211 - accuracy: 0.9324\n"
          ]
        },
        {
          "output_type": "execute_result",
          "data": {
            "text/plain": [
              "[0.22107043862342834, 0.9324414730072021]"
            ]
          },
          "metadata": {},
          "execution_count": 29
        }
      ]
    },
    {
      "cell_type": "code",
      "source": [
        "params_lstm=tuner.get_best_hyperparameters()[0].values"
      ],
      "metadata": {
        "id": "5P_JsvhnmdGy"
      },
      "execution_count": 33,
      "outputs": []
    },
    {
      "cell_type": "code",
      "source": [
        "params_lstm"
      ],
      "metadata": {
        "colab": {
          "base_uri": "https://localhost:8080/"
        },
        "id": "NbwhFFDgmpZS",
        "outputId": "d5c8fc54-dfc5-46f7-c906-992c7697c9b2"
      },
      "execution_count": 34,
      "outputs": [
        {
          "output_type": "execute_result",
          "data": {
            "text/plain": [
              "{'Dropout_rate': 0.30000000000000004, 'units': 512}"
            ]
          },
          "metadata": {},
          "execution_count": 34
        }
      ]
    },
    {
      "cell_type": "code",
      "source": [
        "best_model_lstm.save('/content/drive/MyDrive/omdena_self_harm_project/lstm_model_2')"
      ],
      "metadata": {
        "colab": {
          "base_uri": "https://localhost:8080/"
        },
        "id": "KNQsjDW4nzGv",
        "outputId": "45e19e24-4d08-44b8-bf80-49c0e5493193"
      },
      "execution_count": 39,
      "outputs": [
        {
          "output_type": "stream",
          "name": "stderr",
          "text": [
            "WARNING:absl:Found untraced functions such as lstm_cell_1_layer_call_fn, lstm_cell_1_layer_call_and_return_conditional_losses, lstm_cell_2_layer_call_fn, lstm_cell_2_layer_call_and_return_conditional_losses while saving (showing 4 of 4). These functions will not be directly callable after loading.\n"
          ]
        }
      ]
    },
    {
      "cell_type": "code",
      "source": [
        "from google.colab import drive\n",
        "drive.mount('/content/drive')"
      ],
      "metadata": {
        "colab": {
          "base_uri": "https://localhost:8080/"
        },
        "id": "R7nZSsykoH7o",
        "outputId": "bd37ba74-cd27-49db-e661-3b42a13b119f"
      },
      "execution_count": 38,
      "outputs": [
        {
          "output_type": "stream",
          "name": "stdout",
          "text": [
            "Drive already mounted at /content/drive; to attempt to forcibly remount, call drive.mount(\"/content/drive\", force_remount=True).\n"
          ]
        }
      ]
    }
  ],
  "metadata": {
    "accelerator": "GPU",
    "colab": {
      "collapsed_sections": [],
      "provenance": []
    },
    "gpuClass": "premium",
    "kernelspec": {
      "display_name": "Python 3 (ipykernel)",
      "language": "python",
      "name": "python3"
    },
    "language_info": {
      "codemirror_mode": {
        "name": "ipython",
        "version": 3
      },
      "file_extension": ".py",
      "mimetype": "text/x-python",
      "name": "python",
      "nbconvert_exporter": "python",
      "pygments_lexer": "ipython3",
      "version": "3.10.6"
    }
  },
  "nbformat": 4,
  "nbformat_minor": 0
}